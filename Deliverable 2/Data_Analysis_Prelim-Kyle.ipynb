{
 "cells": [
  {
   "cell_type": "code",
   "execution_count": null,
   "id": "be8f0fb0",
   "metadata": {},
   "outputs": [],
   "source": [
    "import pandas as pd\n",
    "import re\n",
    "import matplotlib.pyplot as plt"
   ]
  },
  {
   "cell_type": "code",
   "execution_count": null,
   "id": "28b4501b",
   "metadata": {},
   "outputs": [],
   "source": [
    "#read in wine csv\n",
    "wine_df=pd.read_csv(\"../Resources/Winedata.csv\")\n",
    "wine_df.head()"
   ]
  },
  {
   "cell_type": "code",
   "execution_count": null,
   "id": "b0f53e34",
   "metadata": {},
   "outputs": [],
   "source": [
    "# read weather csv from S3 - which is super cool, thanks Marisa\n",
    "weather_df=pd.read_csv(\"https://grp2weather.s3.amazonaws.com/combined_weather.csv\")\n",
    "weather_df.head()"
   ]
  },
  {
   "cell_type": "code",
   "execution_count": null,
   "id": "308ffca0",
   "metadata": {},
   "outputs": [],
   "source": [
    "#extract year column from title field, pop title\n",
    "wine_df['Year']=wine_df['title'].str.extract(r'([1-2]\\d{3})')\n",
    "wine_df.pop('title')\n",
    "wine_df.head()"
   ]
  },
  {
   "cell_type": "code",
   "execution_count": null,
   "id": "98e89005",
   "metadata": {},
   "outputs": [],
   "source": [
    "#filter wine_df for regions we want to examine\n",
    "regions=['California','Washington','Bordeaux','Tuscany','Oregon','Burgundy','Cantabria','Piedmont','Veneto','New York','Alsace','Sicily & Sardinia','Champagne']\n",
    "wine_df_regions=wine_df[wine_df['province'].isin(regions)]\n",
    "wine_df_regions"
   ]
  },
  {
   "cell_type": "code",
   "execution_count": null,
   "id": "668a6bfe",
   "metadata": {},
   "outputs": [],
   "source": [
    "# drop records with no year\n",
    "wine_df_regions.dropna(subset=['Year'],inplace=True)\n",
    "wine_df_regions"
   ]
  },
  {
   "cell_type": "code",
   "execution_count": null,
   "id": "6310bc5c",
   "metadata": {},
   "outputs": [],
   "source": [
    "#drop records from before 1990\n",
    "wine_df_regions=wine_df_regions[wine_df_regions['Year']>'1990']\n",
    "wine_df_regions"
   ]
  },
  {
   "cell_type": "code",
   "execution_count": null,
   "id": "6971db20",
   "metadata": {},
   "outputs": [],
   "source": [
    "#make list of columns to drop and drop them\n",
    "columns_to_drop=['country','description','designation','price','region_2','region_1','winery']\n",
    "wine_df_regions.drop(columns_to_drop,axis=1,inplace=True)\n",
    "wine_df_regions"
   ]
  },
  {
   "cell_type": "code",
   "execution_count": null,
   "id": "38929c04",
   "metadata": {},
   "outputs": [],
   "source": [
    "wine_df_regions.columns"
   ]
  },
  {
   "cell_type": "markdown",
   "id": "0e39f1ac",
   "metadata": {},
   "source": [
    "### Target\n",
    "- points\n",
    "\n",
    "### Variables\n",
    "- province - categorical \n",
    "- region_1 - categorical \n",
    "- variety - categorical \n",
    "- winery - categorical \n",
    "- Year - categorical \n",
    "\n",
    "### Maybe Not Variables\n",
    "- description\n",
    "- designation\n",
    "- price\n",
    "\n",
    "### Definitely Not Variables\n",
    "- id\n",
    "- country\n",
    "- region_2"
   ]
  },
  {
   "cell_type": "code",
   "execution_count": null,
   "id": "e8f89e07",
   "metadata": {},
   "outputs": [],
   "source": [
    "#replace wine region values with matching regions from weather data\n",
    "#Piedmont needs to be Piemonte\n",
    "wine_df_regions.loc[wine_df_regions['province']=='Piedmont','province']=\"Piemonte\"\n",
    "wine_df_regions.loc[wine_df_regions['province']=='Sicily & Sardinia','province']=\"Sicilia\"\n",
    "wine_df_regions.loc[wine_df_regions['province']=='Bordeaux','province']=\"Aquitaine\"\n",
    "wine_df_regions.loc[wine_df_regions['province']=='Northern Spain','province']=\"Cantabria\"\n",
    "wine_df_regions.loc[wine_df_regions['province']=='Champagne','province']=\"Champagne-Ardenne\"\n",
    "wine_df_regions"
   ]
  },
  {
   "cell_type": "code",
   "execution_count": null,
   "id": "3e5c77fd",
   "metadata": {
    "scrolled": true
   },
   "outputs": [],
   "source": [
    "wine_df_regions[wine_df_regions['province']=='Piemonte']"
   ]
  },
  {
   "cell_type": "code",
   "execution_count": null,
   "id": "b0b535aa",
   "metadata": {},
   "outputs": [],
   "source": [
    "variety_vcs=wine_df_regions['variety'].value_counts()\n",
    "variety_vcs\n",
    "#Bin variety to elminate <2200"
   ]
  },
  {
   "cell_type": "code",
   "execution_count": null,
   "id": "716ba108",
   "metadata": {},
   "outputs": [],
   "source": [
    "variety_counts=wine_df_regions.variety.value_counts()\n",
    "replace_varieties=list(variety_counts[variety_counts<2200].index)\n",
    "replace_varieties"
   ]
  },
  {
   "cell_type": "code",
   "execution_count": null,
   "id": "eca0b89e",
   "metadata": {},
   "outputs": [],
   "source": [
    "variety_vcs=wine_df_regions['variety'].unique()"
   ]
  },
  {
   "cell_type": "code",
   "execution_count": null,
   "id": "7c8224d7",
   "metadata": {
    "scrolled": true
   },
   "outputs": [],
   "source": [
    "variety_vcs"
   ]
  },
  {
   "cell_type": "code",
   "execution_count": null,
   "id": "15642760",
   "metadata": {},
   "outputs": [],
   "source": []
  },
  {
   "cell_type": "code",
   "execution_count": null,
   "id": "6d6d3605",
   "metadata": {},
   "outputs": [],
   "source": []
  }
 ],
 "metadata": {
  "kernelspec": {
   "display_name": "Python 3.7.6 64-bit ('PythonData': conda)",
   "language": "python",
   "name": "python376jvsc74a57bd0a341bac051c9b033776b6c09bda4364d862f54cb338f0d9961c8d51ff85dace5"
  },
  "language_info": {
   "codemirror_mode": {
    "name": "ipython",
    "version": 3
   },
   "file_extension": ".py",
   "mimetype": "text/x-python",
   "name": "python",
   "nbconvert_exporter": "python",
   "pygments_lexer": "ipython3",
   "version": "3.7.6"
  }
 },
 "nbformat": 4,
 "nbformat_minor": 5
}
